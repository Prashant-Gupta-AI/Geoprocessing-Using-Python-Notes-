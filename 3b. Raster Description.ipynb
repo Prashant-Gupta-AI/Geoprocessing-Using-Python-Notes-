{
 "cells": [
  {
   "cell_type": "markdown",
   "id": "9858240b",
   "metadata": {},
   "source": [
    "# Basic Information about Raster Datasets"
   ]
  },
  {
   "cell_type": "code",
   "execution_count": 47,
   "id": "2bff7a55",
   "metadata": {},
   "outputs": [],
   "source": [
    "from osgeo import gdal\n",
    "import os\n",
    "os.chdir(r'G:\\iirs\\RGB_Imagery') #Change working directory to the folder containing dataset \n",
    "                                 #Or download the dataset to default director"
   ]
  },
  {
   "cell_type": "markdown",
   "id": "44ff805c",
   "metadata": {},
   "source": [
    "The above datasets can be downloaded from the website:- [Rainfall Dataset](https://cdsp.imdpune.gov.in/home_gridded_data.php#:~:text=IMD%20high%20spatial%20resolution%20(0.25,to%2038.5N%20%26%20100.0E.)"
   ]
  },
  {
   "cell_type": "code",
   "execution_count": 48,
   "id": "1a295eab",
   "metadata": {},
   "outputs": [],
   "source": [
    "file_name = r'HARV_Ortho_wNA.tif' #Name of the dataset\n",
    "dataset = gdal.Open(file_name)"
   ]
  },
  {
   "cell_type": "markdown",
   "id": "0097ffa8",
   "metadata": {},
   "source": [
    "# How many bands does this image have?"
   ]
  },
  {
   "cell_type": "code",
   "execution_count": 49,
   "id": "236091e1",
   "metadata": {},
   "outputs": [
    {
     "name": "stdout",
     "output_type": "stream",
     "text": [
      "Number of bands in image: 3\n",
      "\n"
     ]
    }
   ],
   "source": [
    "num_bands = dataset.RasterCount\n",
    "print('Number of bands in image: {n}\\n'.format(n=num_bands))"
   ]
  },
  {
   "cell_type": "markdown",
   "id": "a5d00e9a",
   "metadata": {},
   "source": [
    "# How many rows and columns?"
   ]
  },
  {
   "cell_type": "code",
   "execution_count": 50,
   "id": "72e1bf1c",
   "metadata": {},
   "outputs": [
    {
     "name": "stdout",
     "output_type": "stream",
     "text": [
      "Image size is: 2317 rows x 3073 columns\n",
      "\n"
     ]
    }
   ],
   "source": [
    "rows = dataset.RasterYSize\n",
    "cols = dataset.RasterXSize\n",
    "print('Image size is: {r} rows x {c} columns\\n'.format(r=rows, c=cols))"
   ]
  },
  {
   "cell_type": "markdown",
   "id": "06196d74",
   "metadata": {},
   "source": [
    "# Does the raster have a description or metadata?"
   ]
  },
  {
   "cell_type": "code",
   "execution_count": 51,
   "id": "f7ef64a4",
   "metadata": {},
   "outputs": [
    {
     "name": "stdout",
     "output_type": "stream",
     "text": [
      "Raster description: HARV_Ortho_wNA.tif\n",
      "Raster metadata:\n",
      "{'AREA_OR_POINT': 'Area'}\n",
      "\n",
      "\n"
     ]
    }
   ],
   "source": [
    "desc = dataset.GetDescription()\n",
    "metadata = dataset.GetMetadata()\n",
    "\n",
    "print('Raster description: {desc}'.format(desc=desc))\n",
    "print('Raster metadata:')\n",
    "print(metadata)\n",
    "print('\\n')"
   ]
  },
  {
   "cell_type": "markdown",
   "id": "3728d508",
   "metadata": {},
   "source": [
    "# What driver was used to open the raster?"
   ]
  },
  {
   "cell_type": "code",
   "execution_count": 52,
   "id": "d5b740af",
   "metadata": {},
   "outputs": [
    {
     "name": "stdout",
     "output_type": "stream",
     "text": [
      "Raster driver: GTiff\n",
      "\n"
     ]
    }
   ],
   "source": [
    "driver = dataset.GetDriver()\n",
    "print('Raster driver: {d}\\n'.format(d=driver.ShortName))"
   ]
  },
  {
   "cell_type": "markdown",
   "id": "cfbdb406",
   "metadata": {},
   "source": [
    "# What is the raster's projection?"
   ]
  },
  {
   "cell_type": "code",
   "execution_count": 53,
   "id": "f00ebaf5",
   "metadata": {},
   "outputs": [
    {
     "name": "stdout",
     "output_type": "stream",
     "text": [
      "Image projection:\n",
      "PROJCS[\"WGS 84 / UTM zone 18N\",GEOGCS[\"WGS 84\",DATUM[\"WGS_1984\",SPHEROID[\"WGS 84\",6378137,298.257223563,AUTHORITY[\"EPSG\",\"7030\"]],AUTHORITY[\"EPSG\",\"6326\"]],PRIMEM[\"Greenwich\",0],UNIT[\"degree\",0.0174532925199433,AUTHORITY[\"EPSG\",\"9122\"]],AUTHORITY[\"EPSG\",\"4326\"]],PROJECTION[\"Transverse_Mercator\"],PARAMETER[\"latitude_of_origin\",0],PARAMETER[\"central_meridian\",-75],PARAMETER[\"scale_factor\",0.9996],PARAMETER[\"false_easting\",500000],PARAMETER[\"false_northing\",0],UNIT[\"metre\",1,AUTHORITY[\"EPSG\",\"9001\"]],AXIS[\"Easting\",EAST],AXIS[\"Northing\",NORTH],AUTHORITY[\"EPSG\",\"32618\"]]\n",
      "\n"
     ]
    }
   ],
   "source": [
    "proj = dataset.GetProjection()\n",
    "print('Image projection:')\n",
    "print(proj + '\\n')"
   ]
  },
  {
   "cell_type": "markdown",
   "id": "3a0e43e6",
   "metadata": {},
   "source": [
    "# What is the raster's \"geo-transform\"?"
   ]
  },
  {
   "cell_type": "code",
   "execution_count": 54,
   "id": "0f8fa509",
   "metadata": {},
   "outputs": [
    {
     "name": "stdout",
     "output_type": "stream",
     "text": [
      "Image geo-transform: (731998.5, 0.25, 0.0, 4713535.5, 0.0, -0.25)\n",
      "\n"
     ]
    }
   ],
   "source": [
    "gt = dataset.GetGeoTransform()\n",
    "print('Image geo-transform: {gt}\\n'.format(gt=gt))"
   ]
  },
  {
   "cell_type": "code",
   "execution_count": 56,
   "id": "da5a1376",
   "metadata": {},
   "outputs": [
    {
     "name": "stdout",
     "output_type": "stream",
     "text": [
      "7\n",
      "Float64\n"
     ]
    }
   ],
   "source": [
    "gdal_datatype_number = dataset.GetRasterBand(1).DataType # Returns a number \n",
    "gdal_datatype_name = gdal.GetDataTypeName(gdal_datatype_number) #Returns the name of the data type\n",
    "print(gdal_datatype_number)\n",
    "print(gdal_datatype_name)"
   ]
  },
  {
   "cell_type": "markdown",
   "id": "663901ec",
   "metadata": {},
   "source": [
    "# Raster Description "
   ]
  },
  {
   "cell_type": "code",
   "execution_count": 32,
   "id": "c3947f54",
   "metadata": {},
   "outputs": [
    {
     "name": "stdout",
     "output_type": "stream",
     "text": [
      "Driver: GTiff/GeoTIFF\n",
      "Size is 3073 x 2317 x 3\n",
      "Projection is PROJCS[\"WGS 84 / UTM zone 18N\",GEOGCS[\"WGS 84\",DATUM[\"WGS_1984\",SPHEROID[\"WGS 84\",6378137,298.257223563,AUTHORITY[\"EPSG\",\"7030\"]],AUTHORITY[\"EPSG\",\"6326\"]],PRIMEM[\"Greenwich\",0],UNIT[\"degree\",0.0174532925199433,AUTHORITY[\"EPSG\",\"9122\"]],AUTHORITY[\"EPSG\",\"4326\"]],PROJECTION[\"Transverse_Mercator\"],PARAMETER[\"latitude_of_origin\",0],PARAMETER[\"central_meridian\",-75],PARAMETER[\"scale_factor\",0.9996],PARAMETER[\"false_easting\",500000],PARAMETER[\"false_northing\",0],UNIT[\"metre\",1,AUTHORITY[\"EPSG\",\"9001\"]],AXIS[\"Easting\",EAST],AXIS[\"Northing\",NORTH],AUTHORITY[\"EPSG\",\"32618\"]]\n",
      "Origin = (731998.5, 4713535.5)\n",
      "Pixel Size = (0.25, -0.25)\n"
     ]
    }
   ],
   "source": [
    "print(\"Driver: {}/{}\".format(dataset.GetDriver().ShortName,\n",
    "                            dataset.GetDriver().LongName))\n",
    "print(\"Size is {} x {} x {}\".format(dataset.RasterXSize,\n",
    "                                    dataset.RasterYSize,\n",
    "                                    dataset.RasterCount))\n",
    "print(\"Projection is {}\".format(dataset.GetProjection()))\n",
    "geotransform = dataset.GetGeoTransform()\n",
    "if geotransform:\n",
    "    print(\"Origin = ({}, {})\".format(geotransform[0], geotransform[3]))\n",
    "    print(\"Pixel Size = ({}, {})\".format(geotransform[1], geotransform[5]))"
   ]
  },
  {
   "cell_type": "code",
   "execution_count": 45,
   "id": "6cdfaec9",
   "metadata": {},
   "outputs": [
    {
     "name": "stdout",
     "output_type": "stream",
     "text": [
      "Driver: GTiff/GeoTIFF\n",
      "Files: HARV_Ortho_wNA.tif\n",
      "Size is 3073, 2317\n",
      "Coordinate System is:\n",
      "PROJCRS[\"WGS 84 / UTM zone 18N\",\n",
      "    BASEGEOGCRS[\"WGS 84\",\n",
      "        DATUM[\"World Geodetic System 1984\",\n",
      "            ELLIPSOID[\"WGS 84\",6378137,298.257223563,\n",
      "                LENGTHUNIT[\"metre\",1]]],\n",
      "        PRIMEM[\"Greenwich\",0,\n",
      "            ANGLEUNIT[\"degree\",0.0174532925199433]],\n",
      "        ID[\"EPSG\",4326]],\n",
      "    CONVERSION[\"Transverse Mercator\",\n",
      "        METHOD[\"Transverse Mercator\",\n",
      "            ID[\"EPSG\",9807]],\n",
      "        PARAMETER[\"Latitude of natural origin\",0,\n",
      "            ANGLEUNIT[\"degree\",0.0174532925199433],\n",
      "            ID[\"EPSG\",8801]],\n",
      "        PARAMETER[\"Longitude of natural origin\",-75,\n",
      "            ANGLEUNIT[\"degree\",0.0174532925199433],\n",
      "            ID[\"EPSG\",8802]],\n",
      "        PARAMETER[\"Scale factor at natural origin\",0.9996,\n",
      "            SCALEUNIT[\"unity\",1],\n",
      "            ID[\"EPSG\",8805]],\n",
      "        PARAMETER[\"False easting\",500000,\n",
      "            LENGTHUNIT[\"metre\",1],\n",
      "            ID[\"EPSG\",8806]],\n",
      "        PARAMETER[\"False northing\",0,\n",
      "            LENGTHUNIT[\"metre\",1],\n",
      "            ID[\"EPSG\",8807]]],\n",
      "    CS[Cartesian,2],\n",
      "        AXIS[\"easting\",east,\n",
      "            ORDER[1],\n",
      "            LENGTHUNIT[\"metre\",1]],\n",
      "        AXIS[\"northing\",north,\n",
      "            ORDER[2],\n",
      "            LENGTHUNIT[\"metre\",1]],\n",
      "    ID[\"EPSG\",32618]]\n",
      "Data axis to CRS axis mapping: 1,2\n",
      "Origin = (731998.500000000000000,4713535.500000000000000)\n",
      "Pixel Size = (0.250000000000000,-0.250000000000000)\n",
      "Metadata:\n",
      "  AREA_OR_POINT=Area\n",
      "Image Structure Metadata:\n",
      "  COMPRESSION=LZW\n",
      "  INTERLEAVE=PIXEL\n",
      "Corner Coordinates:\n",
      "Upper Left  (  731998.500, 4713535.500) ( 72d10'29.27\"W, 42d32'21.80\"N)\n",
      "Lower Left  (  731998.500, 4712956.250) ( 72d10'30.11\"W, 42d32' 3.04\"N)\n",
      "Upper Right (  732766.750, 4713535.500) ( 72d 9'55.63\"W, 42d32'20.97\"N)\n",
      "Lower Right (  732766.750, 4712956.250) ( 72d 9'56.48\"W, 42d32' 2.21\"N)\n",
      "Center      (  732382.625, 4713245.875) ( 72d10'12.87\"W, 42d32'12.00\"N)\n",
      "Band 1 Block=3073x1 Type=Float64, ColorInterp=Gray\n",
      "  Min=0.000 Max=255.000 \n",
      "  Minimum=0.000, Maximum=255.000, Mean=107.837, StdDev=30.019\n",
      "  NoData Value=-9999\n",
      "  Metadata:\n",
      "    STATISTICS_MAXIMUM=255\n",
      "    STATISTICS_MEAN=107.83651227531\n",
      "    STATISTICS_MINIMUM=0\n",
      "    STATISTICS_STDDEV=30.019177549096\n",
      "Band 2 Block=3073x1 Type=Float64, ColorInterp=Undefined\n",
      "  Min=0.000 Max=255.000 \n",
      "  Minimum=0.000, Maximum=255.000, Mean=130.096, StdDev=32.002\n",
      "  NoData Value=-9999\n",
      "  Metadata:\n",
      "    STATISTICS_MAXIMUM=255\n",
      "    STATISTICS_MEAN=130.09595363812\n",
      "    STATISTICS_MINIMUM=0\n",
      "    STATISTICS_STDDEV=32.001675868273\n",
      "Band 3 Block=3073x1 Type=Float64, ColorInterp=Undefined\n",
      "  Min=0.000 Max=255.000 \n",
      "  Minimum=0.000, Maximum=255.000, Mean=95.760, StdDev=16.577\n",
      "  NoData Value=-9999\n",
      "  Metadata:\n",
      "    STATISTICS_MAXIMUM=255\n",
      "    STATISTICS_MEAN=95.759787935476\n",
      "    STATISTICS_MINIMUM=0\n",
      "    STATISTICS_STDDEV=16.577042076977\n"
     ]
    }
   ],
   "source": [
    "!gdalinfo HARV_Ortho_wNA.tif #The inline gdalinfo command returns all the relevant information about the dataset."
   ]
  },
  {
   "cell_type": "markdown",
   "id": "55c30805",
   "metadata": {},
   "source": [
    "# Fetching a Raster Band"
   ]
  },
  {
   "cell_type": "code",
   "execution_count": 33,
   "id": "b81c54d5",
   "metadata": {},
   "outputs": [
    {
     "name": "stdout",
     "output_type": "stream",
     "text": [
      "Band Type=Float64\n",
      "Min=0.000, Max=255.000\n"
     ]
    }
   ],
   "source": [
    "band = dataset.GetRasterBand(1)\n",
    "print(\"Band Type={}\".format(gdal.GetDataTypeName(band.DataType)))\n",
    "\n",
    "min = band.GetMinimum()\n",
    "max = band.GetMaximum()\n",
    "if not min or not max:\n",
    "    (min,max) = band.ComputeRasterMinMax(True)\n",
    "print(\"Min={:.3f}, Max={:.3f}\".format(min,max))\n",
    "\n",
    "if band.GetOverviewCount() > 0:\n",
    "    print(\"Band has {} overviews\".format(band.GetOverviewCount()))\n",
    "\n",
    "if band.GetRasterColorTable():\n",
    "    print(\"Band has a color table with {} entries\".format(band.GetRasterColorTable().GetCount()))"
   ]
  },
  {
   "cell_type": "markdown",
   "id": "4a5ced50",
   "metadata": {},
   "source": [
    "# Reading Raster Data"
   ]
  },
  {
   "cell_type": "code",
   "execution_count": 35,
   "id": "a64d4093",
   "metadata": {},
   "outputs": [],
   "source": [
    "scanline = band.ReadRaster(xoff=0, yoff=0,\n",
    "                        xsize=band.XSize, ysize=1,\n",
    "                        buf_xsize=band.XSize, buf_ysize=1,\n",
    "                        buf_type=gdal.GDT_Float32)"
   ]
  },
  {
   "cell_type": "markdown",
   "id": "2e2a9ef9",
   "metadata": {},
   "source": [
    "Note that the returned scanline is of type string, and contains xsize*4 bytes of raw binary floating point data. This can be converted to Python values using the struct module from the standard library:"
   ]
  },
  {
   "cell_type": "code",
   "execution_count": 37,
   "id": "2cc4bfc8",
   "metadata": {},
   "outputs": [],
   "source": [
    "import struct\n",
    "tuple_of_floats = struct.unpack('f' * band.XSize, scanline)"
   ]
  },
  {
   "cell_type": "code",
   "execution_count": 44,
   "id": "681de3c1",
   "metadata": {},
   "outputs": [
    {
     "name": "stdout",
     "output_type": "stream",
     "text": [
      "(0.0, 2.0, 6.0, -9999.0, 16.0, -9999.0, 0.0, 6.0, 1.0)\n"
     ]
    }
   ],
   "source": [
    "print(tuple_of_floats[0:9]) #First 10 data points"
   ]
  },
  {
   "cell_type": "markdown",
   "id": "1292c2a7",
   "metadata": {},
   "source": [
    "# Closing the Dataset\n"
   ]
  },
  {
   "cell_type": "markdown",
   "id": "de13b8bd",
   "metadata": {},
   "source": [
    "Set dataset to None or use `del` keyward to close the dataset. This will result in proper cleanup, and flushing of any pending writes"
   ]
  },
  {
   "cell_type": "code",
   "execution_count": 57,
   "id": "de6185d1",
   "metadata": {},
   "outputs": [],
   "source": [
    "dataset = None #Alternatively del dataset can be used as well"
   ]
  },
  {
   "cell_type": "code",
   "execution_count": null,
   "id": "eb845f00",
   "metadata": {},
   "outputs": [],
   "source": []
  }
 ],
 "metadata": {
  "hide_input": false,
  "kernelspec": {
   "display_name": "Python 3 (ipykernel)",
   "language": "python",
   "name": "python3"
  },
  "language_info": {
   "codemirror_mode": {
    "name": "ipython",
    "version": 3
   },
   "file_extension": ".py",
   "mimetype": "text/x-python",
   "name": "python",
   "nbconvert_exporter": "python",
   "pygments_lexer": "ipython3",
   "version": "3.8.4rc1"
  }
 },
 "nbformat": 4,
 "nbformat_minor": 5
}
