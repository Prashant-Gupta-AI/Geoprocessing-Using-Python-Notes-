{
 "cells": [
  {
   "cell_type": "markdown",
   "id": "84210d7f",
   "metadata": {},
   "source": [
    "# Python Basics"
   ]
  },
  {
   "cell_type": "markdown",
   "id": "b2495d25",
   "metadata": {},
   "source": [
    "## Values\n",
    "• A value is the fundamental thing that a program manipulates <br>\n",
    "• Values can be 'Hello Python', 1, True Values have types.'''\n"
   ]
  },
  {
   "cell_type": "markdown",
   "id": "f9ee8e27",
   "metadata": {},
   "source": [
    "# Variable\n",
    "1. One of the most basic and powerful concepts is that of a variable.\n",
    "2. A variable assigns a name to a value. Variables are nothing more than reserved memory locations that store values.\n",
    "3. Python variables does not need explicit declaration to reserve memory.\n",
    "4. Unlike C/C++ and Java, variables can change types"
   ]
  },
  {
   "cell_type": "code",
   "execution_count": 1,
   "id": "fa3c5099",
   "metadata": {},
   "outputs": [],
   "source": [
    "message = 'Hello Python!'"
   ]
  },
  {
   "cell_type": "code",
   "execution_count": 2,
   "id": "8d64263a",
   "metadata": {},
   "outputs": [],
   "source": [
    "n=10"
   ]
  },
  {
   "cell_type": "code",
   "execution_count": 3,
   "id": "fcf05794",
   "metadata": {},
   "outputs": [],
   "source": [
    "e=2.71"
   ]
  },
  {
   "cell_type": "code",
   "execution_count": 4,
   "id": "245e513f",
   "metadata": {},
   "outputs": [
    {
     "name": "stdout",
     "output_type": "stream",
     "text": [
      "Hello Python! n== 10 e== 2.71\n"
     ]
    }
   ],
   "source": [
    "print(message, 'n==', n, 'e==', e)"
   ]
  },
  {
   "cell_type": "markdown",
   "id": "582bdc5d",
   "metadata": {},
   "source": [
    "# Modules\n",
    "\n",
    "1. module is a file containing Python definitions and statements\n",
    "2. not all functionality available comes automatically when starting Python\n",
    "3. extra functionality can be added by importing modules\n",
    "4. objects in the module can be accessed by prefixing them with the module name"
   ]
  },
  {
   "cell_type": "code",
   "execution_count": 5,
   "id": "144577f5",
   "metadata": {},
   "outputs": [],
   "source": [
    "import math"
   ]
  },
  {
   "cell_type": "code",
   "execution_count": 6,
   "id": "a47b43d9",
   "metadata": {},
   "outputs": [
    {
     "data": {
      "text/plain": [
       "8.0"
      ]
     },
     "execution_count": 6,
     "metadata": {},
     "output_type": "execute_result"
    }
   ],
   "source": [
    "math.pow(2,3)"
   ]
  },
  {
   "cell_type": "code",
   "execution_count": 7,
   "id": "efda5ed8",
   "metadata": {},
   "outputs": [],
   "source": [
    "import random"
   ]
  },
  {
   "cell_type": "code",
   "execution_count": 8,
   "id": "8b5d595d",
   "metadata": {},
   "outputs": [
    {
     "data": {
      "text/plain": [
       "2"
      ]
     },
     "execution_count": 8,
     "metadata": {},
     "output_type": "execute_result"
    }
   ],
   "source": [
    "random.randint(1,100)"
   ]
  },
  {
   "cell_type": "code",
   "execution_count": 9,
   "id": "62c5de51",
   "metadata": {},
   "outputs": [],
   "source": [
    "from pathlib import Path"
   ]
  },
  {
   "cell_type": "code",
   "execution_count": 10,
   "id": "eef108db",
   "metadata": {},
   "outputs": [],
   "source": [
    "# This is a comment"
   ]
  },
  {
   "cell_type": "markdown",
   "id": "69233f27",
   "metadata": {},
   "source": [
    "### Putting All things together"
   ]
  },
  {
   "cell_type": "markdown",
   "id": "a3adb92a",
   "metadata": {},
   "source": [
    "Now we will write program to calculate Simple Interest"
   ]
  },
  {
   "cell_type": "code",
   "execution_count": 11,
   "id": "4c4bf0bf",
   "metadata": {},
   "outputs": [],
   "source": [
    "rate = 10"
   ]
  },
  {
   "cell_type": "code",
   "execution_count": 12,
   "id": "de0c843e",
   "metadata": {},
   "outputs": [],
   "source": [
    "principle = 1000"
   ]
  },
  {
   "cell_type": "code",
   "execution_count": 13,
   "id": "a57b6cde",
   "metadata": {},
   "outputs": [],
   "source": [
    "time = 3"
   ]
  },
  {
   "cell_type": "code",
   "execution_count": 14,
   "id": "c3ec3550",
   "metadata": {},
   "outputs": [],
   "source": [
    "intrest = (rate*principle*time)/100"
   ]
  },
  {
   "cell_type": "code",
   "execution_count": 15,
   "id": "3490bcea",
   "metadata": {},
   "outputs": [
    {
     "name": "stdout",
     "output_type": "stream",
     "text": [
      "Interest is 300.0\n"
     ]
    }
   ],
   "source": [
    "print('Interest is', intrest)"
   ]
  },
  {
   "cell_type": "markdown",
   "id": "77528043",
   "metadata": {},
   "source": [
    "# Data Types \n",
    "## 1. Numeric Types \n",
    "\n",
    "- Integer Types: 92, 12, 0, 1 <br>\n",
    "- Floats (Floating point numbers): 3.1415<br>\n",
    "- Complex Numbers: a + bi (composed of real and imaginary component, both of which are floats a + bi)<br>\n",
    "- Booleans: True/False are a subtype of integers (O is false, 1 is true)<br>\n",
    "    \n",
    "## 2. Strings\n",
    "- 'Hello Python'\n",
    "- 'India'\n",
    "\n",
    "## 3. Sequence types:\n",
    "- Lists : [1,2,3,4,5]\n",
    "- Tuples: (1, 2)\n",
    "- Ranges:\n"
   ]
  },
  {
   "cell_type": "markdown",
   "id": "9725882a",
   "metadata": {},
   "source": [
    "# Indentation\n",
    "1. In Python, blocks of code are defined using indentation \n",
    "2. The indentation within the block needs to be consistent \n",
    "3. The first line with less indentation is outside of the block \n",
    "4. The first line with more indentation starts a nested block \n",
    "5. Often a colon appears at the start of a new block"
   ]
  },
  {
   "cell_type": "code",
   "execution_count": 16,
   "id": "f4e6cfff",
   "metadata": {},
   "outputs": [
    {
     "name": "stdout",
     "output_type": "stream",
     "text": [
      "x is less than 10\n",
      "Hello\n",
      "Outside the If\n"
     ]
    }
   ],
   "source": [
    "x=9\n",
    "if x<10:\n",
    "    print('x is less than 10')\n",
    "    print('Hello')\n",
    "print('Outside the If')"
   ]
  },
  {
   "cell_type": "markdown",
   "id": "96f92558",
   "metadata": {},
   "source": [
    "# Strings\n",
    "- Strings are text values like 'Hello Anaconda'\n",
    "- Strings can be enclosed in single quote '...' or double quote \"...\""
   ]
  },
  {
   "cell_type": "code",
   "execution_count": 17,
   "id": "6090a374",
   "metadata": {},
   "outputs": [
    {
     "data": {
      "text/plain": [
       "'spam eggs'"
      ]
     },
     "execution_count": 17,
     "metadata": {},
     "output_type": "execute_result"
    }
   ],
   "source": [
    "'spam eggs'"
   ]
  },
  {
   "cell_type": "code",
   "execution_count": 18,
   "id": "3b8acb0f",
   "metadata": {},
   "outputs": [
    {
     "data": {
      "text/plain": [
       "\"doesn't\""
      ]
     },
     "execution_count": 18,
     "metadata": {},
     "output_type": "execute_result"
    }
   ],
   "source": [
    "'doesn\\'t' # use \\' to escape the single quote..."
   ]
  },
  {
   "cell_type": "code",
   "execution_count": 19,
   "id": "82ea7efe",
   "metadata": {},
   "outputs": [
    {
     "data": {
      "text/plain": [
       "\"doesn't\""
      ]
     },
     "execution_count": 19,
     "metadata": {},
     "output_type": "execute_result"
    }
   ],
   "source": [
    "\"doesn't\" #...or use double quotes instead"
   ]
  },
  {
   "cell_type": "code",
   "execution_count": 20,
   "id": "c77434d8",
   "metadata": {},
   "outputs": [
    {
     "name": "stdout",
     "output_type": "stream",
     "text": [
      "Usage: thingy [OPTIONS]\n",
      "     -h                      Display this usage message\n",
      "     -H                      Hostname to connect to\n",
      " \n"
     ]
    }
   ],
   "source": [
    "print(\"\"\"\\\n",
    "Usage: thingy [OPTIONS]\n",
    "     -h                      Display this usage message\n",
    "     -H                      Hostname to connect to\n",
    " \"\"\")\n"
   ]
  },
  {
   "cell_type": "code",
   "execution_count": 21,
   "id": "24d0f029",
   "metadata": {},
   "outputs": [
    {
     "data": {
      "text/plain": [
       "'unununium'"
      ]
     },
     "execution_count": 21,
     "metadata": {},
     "output_type": "execute_result"
    }
   ],
   "source": [
    "3*'un' + 'ium'"
   ]
  },
  {
   "cell_type": "markdown",
   "id": "ee9af5a2",
   "metadata": {},
   "source": [
    "Strings can be indexed (subscripted), with the first character having index 0."
   ]
  },
  {
   "cell_type": "code",
   "execution_count": 22,
   "id": "0c294804",
   "metadata": {},
   "outputs": [],
   "source": [
    "word = \"Python\""
   ]
  },
  {
   "cell_type": "code",
   "execution_count": 23,
   "id": "8d442544",
   "metadata": {},
   "outputs": [
    {
     "data": {
      "text/plain": [
       "'P'"
      ]
     },
     "execution_count": 23,
     "metadata": {},
     "output_type": "execute_result"
    }
   ],
   "source": [
    "word[0]"
   ]
  },
  {
   "cell_type": "code",
   "execution_count": 24,
   "id": "778769cc",
   "metadata": {},
   "outputs": [
    {
     "data": {
      "text/plain": [
       "'n'"
      ]
     },
     "execution_count": 24,
     "metadata": {},
     "output_type": "execute_result"
    }
   ],
   "source": [
    "word[5]"
   ]
  },
  {
   "cell_type": "markdown",
   "id": "cc6389a6",
   "metadata": {},
   "source": [
    "Indices may also be negative number, to start counting from the right."
   ]
  },
  {
   "cell_type": "code",
   "execution_count": 25,
   "id": "b1ecc063",
   "metadata": {},
   "outputs": [
    {
     "data": {
      "text/plain": [
       "'n'"
      ]
     },
     "execution_count": 25,
     "metadata": {},
     "output_type": "execute_result"
    }
   ],
   "source": [
    "word[-1] # Laste character"
   ]
  },
  {
   "cell_type": "code",
   "execution_count": 26,
   "id": "58d13085",
   "metadata": {},
   "outputs": [
    {
     "data": {
      "text/plain": [
       "'o'"
      ]
     },
     "execution_count": 26,
     "metadata": {},
     "output_type": "execute_result"
    }
   ],
   "source": [
    "word[-2] #second-Last character"
   ]
  },
  {
   "cell_type": "markdown",
   "id": "7b664270",
   "metadata": {},
   "source": [
    "In addition to indexing, slicing is also supported. While indexing is used to obtain inidividual characters, slicing allows you to obtain substring:"
   ]
  },
  {
   "cell_type": "code",
   "execution_count": 27,
   "id": "420a918c",
   "metadata": {},
   "outputs": [
    {
     "data": {
      "text/plain": [
       "'Py'"
      ]
     },
     "execution_count": 27,
     "metadata": {},
     "output_type": "execute_result"
    }
   ],
   "source": [
    "word[0:2] #characters from 0 (included) to 2 (excluded)"
   ]
  },
  {
   "cell_type": "code",
   "execution_count": 28,
   "id": "2a5f7dd5",
   "metadata": {},
   "outputs": [
    {
     "data": {
      "text/plain": [
       "'tho'"
      ]
     },
     "execution_count": 28,
     "metadata": {},
     "output_type": "execute_result"
    }
   ],
   "source": [
    "word[2:5] #characters from 2 (included) to 5 (excluded)"
   ]
  },
  {
   "cell_type": "code",
   "execution_count": 29,
   "id": "827a2ad4",
   "metadata": {},
   "outputs": [],
   "source": [
    "text = 'Put several string within parenheses' + \\\n",
    "        'to have them joined together.'"
   ]
  },
  {
   "cell_type": "code",
   "execution_count": 30,
   "id": "e8aaca44",
   "metadata": {},
   "outputs": [
    {
     "data": {
      "text/plain": [
       "'Put several string within parenhesesto have them joined together.'"
      ]
     },
     "execution_count": 30,
     "metadata": {},
     "output_type": "execute_result"
    }
   ],
   "source": [
    "text"
   ]
  },
  {
   "cell_type": "markdown",
   "id": "a3cbeb1e",
   "metadata": {},
   "source": [
    "# Lists \n",
    "1. ordered sequence of information, accessible by index\n",
    "2. a list is denoted by square brackets, []\n",
    "3. a list contains usually homogenous elements\n",
    "4. list elements can be changed so a list is mutable"
   ]
  },
  {
   "cell_type": "code",
   "execution_count": 31,
   "id": "a5de7b63",
   "metadata": {},
   "outputs": [],
   "source": [
    "squares = [1, 4, 9, 16, 25]"
   ]
  },
  {
   "cell_type": "code",
   "execution_count": 32,
   "id": "9e55f615",
   "metadata": {},
   "outputs": [
    {
     "data": {
      "text/plain": [
       "[1, 4, 9, 16, 25]"
      ]
     },
     "execution_count": 32,
     "metadata": {},
     "output_type": "execute_result"
    }
   ],
   "source": [
    "squares"
   ]
  },
  {
   "cell_type": "code",
   "execution_count": 33,
   "id": "1a3c9ba9",
   "metadata": {},
   "outputs": [
    {
     "data": {
      "text/plain": [
       "1"
      ]
     },
     "execution_count": 33,
     "metadata": {},
     "output_type": "execute_result"
    }
   ],
   "source": [
    "squares[0]"
   ]
  },
  {
   "cell_type": "code",
   "execution_count": 34,
   "id": "c43c5256",
   "metadata": {},
   "outputs": [
    {
     "data": {
      "text/plain": [
       "25"
      ]
     },
     "execution_count": 34,
     "metadata": {},
     "output_type": "execute_result"
    }
   ],
   "source": [
    "squares[-1]"
   ]
  },
  {
   "cell_type": "code",
   "execution_count": 35,
   "id": "fe9bcdff",
   "metadata": {},
   "outputs": [
    {
     "data": {
      "text/plain": [
       "[9, 16, 25]"
      ]
     },
     "execution_count": 35,
     "metadata": {},
     "output_type": "execute_result"
    }
   ],
   "source": [
    "squares[-3:]"
   ]
  },
  {
   "cell_type": "code",
   "execution_count": 36,
   "id": "fb8e44bb",
   "metadata": {},
   "outputs": [
    {
     "data": {
      "text/plain": [
       "[1, 4, 9, 16, 25, 36, 49, 81, 100]"
      ]
     },
     "execution_count": 36,
     "metadata": {},
     "output_type": "execute_result"
    }
   ],
   "source": [
    "squares + [36, 49, 81, 100]"
   ]
  },
  {
   "cell_type": "code",
   "execution_count": 37,
   "id": "ab60c143",
   "metadata": {},
   "outputs": [
    {
     "data": {
      "text/plain": [
       "[1, 8, 27, 65, 125]"
      ]
     },
     "execution_count": 37,
     "metadata": {},
     "output_type": "execute_result"
    }
   ],
   "source": [
    "cubes = [1, 8, 27, 65, 125]\n",
    "cubes"
   ]
  },
  {
   "cell_type": "markdown",
   "id": "861d1519",
   "metadata": {},
   "source": [
    "Unlike strings, which are immutable, list are a mutable type, i.e. it is possible to change their content"
   ]
  },
  {
   "cell_type": "code",
   "execution_count": 38,
   "id": "5632ad20",
   "metadata": {},
   "outputs": [
    {
     "data": {
      "text/plain": [
       "[1, 8, 27, 64, 125]"
      ]
     },
     "execution_count": 38,
     "metadata": {},
     "output_type": "execute_result"
    }
   ],
   "source": [
    "cubes[3] = 64\n",
    "cubes"
   ]
  },
  {
   "cell_type": "markdown",
   "id": "bd8938c0",
   "metadata": {},
   "source": [
    "Assignment to slices is also possible, and this can even change the size of the list or clear it entirely"
   ]
  },
  {
   "cell_type": "code",
   "execution_count": 39,
   "id": "704a5013",
   "metadata": {},
   "outputs": [],
   "source": [
    "letters = ['a', 'b', 'c', 'd', 'e', 'f', 'g']"
   ]
  },
  {
   "cell_type": "code",
   "execution_count": 40,
   "id": "4724f70c",
   "metadata": {},
   "outputs": [
    {
     "data": {
      "text/plain": [
       "['a', 'b', 'C', 'D', 'E', 'f', 'g']"
      ]
     },
     "execution_count": 40,
     "metadata": {},
     "output_type": "execute_result"
    }
   ],
   "source": [
    "letters[2:5] = ['C', 'D', 'E']\n",
    "letters"
   ]
  },
  {
   "cell_type": "code",
   "execution_count": 41,
   "id": "4dac73dc",
   "metadata": {},
   "outputs": [
    {
     "data": {
      "text/plain": [
       "[]"
      ]
     },
     "execution_count": 41,
     "metadata": {},
     "output_type": "execute_result"
    }
   ],
   "source": [
    "letters[:] = []\n",
    "letters"
   ]
  },
  {
   "cell_type": "markdown",
   "id": "e63ed20d",
   "metadata": {},
   "source": [
    "# Tuple\n",
    "1. tuple consists of a number of values separated by commas\n",
    "2. cannot change element values, immutable\n",
    "3. tuples always enclosed in parenthesis\n",
    "4. used to return more than one vlaue from a function"
   ]
  },
  {
   "cell_type": "code",
   "execution_count": 42,
   "id": "690f0fd9",
   "metadata": {},
   "outputs": [],
   "source": [
    "t = 12345, 54321, 'hello!'"
   ]
  },
  {
   "cell_type": "code",
   "execution_count": 43,
   "id": "9ad24101",
   "metadata": {},
   "outputs": [
    {
     "data": {
      "text/plain": [
       "12345"
      ]
     },
     "execution_count": 43,
     "metadata": {},
     "output_type": "execute_result"
    }
   ],
   "source": [
    "t[0]"
   ]
  },
  {
   "cell_type": "code",
   "execution_count": 44,
   "id": "ec3ec00d",
   "metadata": {},
   "outputs": [],
   "source": [
    "u = t, (1, 2, 3, 4, 5) #Tuples may be nested:"
   ]
  },
  {
   "cell_type": "code",
   "execution_count": 45,
   "id": "3a0da7f1",
   "metadata": {},
   "outputs": [
    {
     "data": {
      "text/plain": [
       "((12345, 54321, 'hello!'), (1, 2, 3, 4, 5))"
      ]
     },
     "execution_count": 45,
     "metadata": {},
     "output_type": "execute_result"
    }
   ],
   "source": [
    "u"
   ]
  },
  {
   "cell_type": "code",
   "execution_count": 46,
   "id": "0adf34f7",
   "metadata": {},
   "outputs": [
    {
     "ename": "TypeError",
     "evalue": "'tuple' object does not support item assignment",
     "output_type": "error",
     "traceback": [
      "\u001b[1;31m---------------------------------------------------------------------------\u001b[0m",
      "\u001b[1;31mTypeError\u001b[0m                                 Traceback (most recent call last)",
      "\u001b[1;32m~\\AppData\\Local\\Temp/ipykernel_10208/42555382.py\u001b[0m in \u001b[0;36m<module>\u001b[1;34m\u001b[0m\n\u001b[1;32m----> 1\u001b[1;33m \u001b[0mt\u001b[0m\u001b[1;33m[\u001b[0m\u001b[1;36m0\u001b[0m\u001b[1;33m]\u001b[0m \u001b[1;33m=\u001b[0m \u001b[1;36m8888\u001b[0m \u001b[1;31m# Tuples are immutable:\u001b[0m\u001b[1;33m\u001b[0m\u001b[1;33m\u001b[0m\u001b[0m\n\u001b[0m",
      "\u001b[1;31mTypeError\u001b[0m: 'tuple' object does not support item assignment"
     ]
    }
   ],
   "source": [
    "t[0] = 8888 # Tuples are immutable:"
   ]
  },
  {
   "cell_type": "code",
   "execution_count": 47,
   "id": "e1cf0514",
   "metadata": {},
   "outputs": [
    {
     "name": "stdout",
     "output_type": "stream",
     "text": [
      "12345\n",
      "54321\n",
      "hello!\n"
     ]
    }
   ],
   "source": [
    "x, y, z = t\n",
    "print(x)\n",
    "print(y)\n",
    "print(z)"
   ]
  },
  {
   "cell_type": "markdown",
   "id": "44a08b79",
   "metadata": {},
   "source": [
    "# Sets\n",
    "1. A set is an unordered collection with no duplicate elements\n",
    "2. Set objects also support mathematical operations like union, intersection, difference, and symmetric difference "
   ]
  },
  {
   "cell_type": "code",
   "execution_count": 48,
   "id": "42b989db",
   "metadata": {},
   "outputs": [],
   "source": [
    "basket = {'apple', 'orange', 'apple', 'pear', 'orange', 'banana'}"
   ]
  },
  {
   "cell_type": "code",
   "execution_count": 49,
   "id": "1c93f465",
   "metadata": {},
   "outputs": [],
   "source": [
    "basket_1 = ['apple', 'orange', 'apple', 'pear', 'orange', 'banana']"
   ]
  },
  {
   "cell_type": "code",
   "execution_count": 50,
   "id": "12b4b8bc",
   "metadata": {},
   "outputs": [
    {
     "name": "stdout",
     "output_type": "stream",
     "text": [
      "{'banana', 'pear', 'apple', 'orange'}\n"
     ]
    }
   ],
   "source": [
    "print(basket) #show that duplicate have been removed"
   ]
  },
  {
   "cell_type": "code",
   "execution_count": 51,
   "id": "15c44bd8",
   "metadata": {},
   "outputs": [
    {
     "data": {
      "text/plain": [
       "True"
      ]
     },
     "execution_count": 51,
     "metadata": {},
     "output_type": "execute_result"
    }
   ],
   "source": [
    "'orange' in basket"
   ]
  },
  {
   "cell_type": "code",
   "execution_count": 52,
   "id": "70f183cc",
   "metadata": {},
   "outputs": [
    {
     "data": {
      "text/plain": [
       "False"
      ]
     },
     "execution_count": 52,
     "metadata": {},
     "output_type": "execute_result"
    }
   ],
   "source": [
    "'crabgrass' in basket"
   ]
  },
  {
   "cell_type": "code",
   "execution_count": 53,
   "id": "d20cf3b8",
   "metadata": {},
   "outputs": [],
   "source": [
    "a = set('abracadabra')"
   ]
  },
  {
   "cell_type": "code",
   "execution_count": 54,
   "id": "6d552875",
   "metadata": {},
   "outputs": [],
   "source": [
    "b = set('alacazam')"
   ]
  },
  {
   "cell_type": "code",
   "execution_count": 55,
   "id": "fbecd3af",
   "metadata": {},
   "outputs": [
    {
     "data": {
      "text/plain": [
       "{'b', 'd', 'r'}"
      ]
     },
     "execution_count": 55,
     "metadata": {},
     "output_type": "execute_result"
    }
   ],
   "source": [
    "a - b"
   ]
  },
  {
   "cell_type": "markdown",
   "id": "b93ea70b",
   "metadata": {},
   "source": [
    "# Dictionary\n",
    "1. dictionary is a set of key:value pairs\n",
    "2. dictonaries are indexed by keys, which can be any immutable type\n",
    "3. dictonaries stores a value with some key and extracts the value given the key"
   ]
  },
  {
   "cell_type": "code",
   "execution_count": 56,
   "id": "41e1cf9d",
   "metadata": {},
   "outputs": [
    {
     "data": {
      "text/plain": [
       "{'jack': 4098, 'sape': 4139}"
      ]
     },
     "execution_count": 56,
     "metadata": {},
     "output_type": "execute_result"
    }
   ],
   "source": [
    "telephone = {'jack': 4098, 'sape': 4139}\n",
    "telephone"
   ]
  },
  {
   "cell_type": "code",
   "execution_count": 57,
   "id": "70c33ae7",
   "metadata": {},
   "outputs": [
    {
     "data": {
      "text/plain": [
       "4098"
      ]
     },
     "execution_count": 57,
     "metadata": {},
     "output_type": "execute_result"
    }
   ],
   "source": [
    "telephone['jack']"
   ]
  },
  {
   "cell_type": "code",
   "execution_count": 58,
   "id": "e950cfef",
   "metadata": {},
   "outputs": [
    {
     "data": {
      "text/plain": [
       "{'jack': 4098, 'sape': 4139, 'king': 4127}"
      ]
     },
     "execution_count": 58,
     "metadata": {},
     "output_type": "execute_result"
    }
   ],
   "source": [
    "telephone['king'] = 4127\n",
    "telephone"
   ]
  },
  {
   "cell_type": "code",
   "execution_count": null,
   "id": "1cce26d5",
   "metadata": {},
   "outputs": [],
   "source": [
    "del telephone['sape']"
   ]
  },
  {
   "cell_type": "code",
   "execution_count": 59,
   "id": "eb02f595",
   "metadata": {},
   "outputs": [
    {
     "data": {
      "text/plain": [
       "True"
      ]
     },
     "execution_count": 59,
     "metadata": {},
     "output_type": "execute_result"
    }
   ],
   "source": [
    "'king' in telephone"
   ]
  },
  {
   "cell_type": "markdown",
   "id": "63d76427",
   "metadata": {},
   "source": [
    "# Control flow\n",
    "Control flow is the concept of changing this order of code execution. Similar to the way you might use sale prices to decide which car to buy or seeing the colour of signal decide to start or stop."
   ]
  },
  {
   "cell_type": "code",
   "execution_count": 60,
   "id": "adfadd5e",
   "metadata": {},
   "outputs": [
    {
     "name": "stdout",
     "output_type": "stream",
     "text": [
      "Light is Not Green\n",
      "Stop\n"
     ]
    }
   ],
   "source": [
    "traffic_light = 'red'\n",
    "if traffic_light == 'green':\n",
    "    print('Light is green')\n",
    "    print('Go Ahead')\n",
    "else:\n",
    "    print('Light is Not Green')\n",
    "    print('Stop')"
   ]
  },
  {
   "cell_type": "code",
   "execution_count": 61,
   "id": "b261e131",
   "metadata": {},
   "outputs": [
    {
     "name": "stdout",
     "output_type": "stream",
     "text": [
      "Light is Red\n"
     ]
    }
   ],
   "source": [
    "traffic_light = 'red'\n",
    "if traffic_light == 'green':\n",
    "    print('Light is Green')\n",
    "elif traffic_light == 'yellow':\n",
    "    print('Light is Yellow')\n",
    "elif traffic_light == 'red':\n",
    "    print('Light is Red')\n",
    "else:\n",
    "    print('Unknown Traffic Light')\n",
    "    \n",
    "   "
   ]
  },
  {
   "cell_type": "markdown",
   "id": "28d62ce0",
   "metadata": {},
   "source": [
    "# While Loop\n",
    "A while statement executes a block of code as long as a condition is True. This continues until the condition is False. "
   ]
  },
  {
   "cell_type": "code",
   "execution_count": 62,
   "id": "ee811768",
   "metadata": {},
   "outputs": [],
   "source": [
    "n = 0"
   ]
  },
  {
   "cell_type": "code",
   "execution_count": 63,
   "id": "0e3abf7c",
   "metadata": {},
   "outputs": [
    {
     "name": "stdout",
     "output_type": "stream",
     "text": [
      "Value of n is  0\n",
      "Value of n is  1\n",
      "Value of n is  2\n",
      "Value of n is  3\n",
      "Value of n is  4\n",
      "Value of n is  5\n",
      "Value of n is  6\n",
      "Value of n is  7\n",
      "Value of n is  8\n",
      "Value of n is  9\n"
     ]
    }
   ],
   "source": [
    "while n<10:\n",
    "    print('Value of n is ', n)\n",
    "    n = n+1"
   ]
  },
  {
   "cell_type": "markdown",
   "id": "754d180e",
   "metadata": {},
   "source": [
    "# For statements \n",
    "Pythons's for statement iterates over the items of any sequence."
   ]
  },
  {
   "cell_type": "code",
   "execution_count": 64,
   "id": "f12da18e",
   "metadata": {},
   "outputs": [
    {
     "name": "stdout",
     "output_type": "stream",
     "text": [
      "cat 3\n",
      "window 6\n",
      "deefenestrate 13\n"
     ]
    }
   ],
   "source": [
    "word = ['cat', 'window', 'deefenestrate']\n",
    "for w in word:\n",
    "    print(w, len(w))"
   ]
  },
  {
   "cell_type": "markdown",
   "id": "0783d4e3",
   "metadata": {},
   "source": [
    "### To iterate over as sequence of numbers, the built-in range() function comes in handy."
   ]
  },
  {
   "cell_type": "code",
   "execution_count": 65,
   "id": "d0d99256",
   "metadata": {},
   "outputs": [
    {
     "name": "stdout",
     "output_type": "stream",
     "text": [
      "0,1,2,3,4,"
     ]
    }
   ],
   "source": [
    "for i in range(5):\n",
    "    print(i, end=',')"
   ]
  },
  {
   "cell_type": "code",
   "execution_count": 66,
   "id": "a3a3538a",
   "metadata": {},
   "outputs": [
    {
     "name": "stdout",
     "output_type": "stream",
     "text": [
      "5,6,7,8,9,"
     ]
    }
   ],
   "source": [
    "for i in range(5,10):\n",
    "    print(i, end=',')"
   ]
  },
  {
   "cell_type": "code",
   "execution_count": 67,
   "id": "944e240a",
   "metadata": {},
   "outputs": [
    {
     "name": "stdout",
     "output_type": "stream",
     "text": [
      "5,7,9,"
     ]
    }
   ],
   "source": [
    "for i in range(5,10,2):\n",
    "    print(i,end=',')"
   ]
  },
  {
   "cell_type": "markdown",
   "id": "1019276b",
   "metadata": {},
   "source": [
    "## break and continue Statements\n",
    "1. break statement breaks out of innermost enclosing for or while loop.\n",
    "2. contiue statement continues with the next iteration of the loop skipping remaining statements."
   ]
  },
  {
   "cell_type": "code",
   "execution_count": 68,
   "id": "6a09d946",
   "metadata": {},
   "outputs": [
    {
     "name": "stdout",
     "output_type": "stream",
     "text": [
      "0\n",
      "1\n",
      "2\n"
     ]
    }
   ],
   "source": [
    "for i in range(5):\n",
    "    if i == 3:\n",
    "        break\n",
    "    print(i)"
   ]
  },
  {
   "cell_type": "code",
   "execution_count": 69,
   "id": "55b4348b",
   "metadata": {},
   "outputs": [
    {
     "name": "stdout",
     "output_type": "stream",
     "text": [
      "0\n",
      "1\n",
      "3\n",
      "4\n"
     ]
    }
   ],
   "source": [
    "for i in range(5):\n",
    "    if i == 2:\n",
    "        continue\n",
    "    print(i)"
   ]
  },
  {
   "cell_type": "markdown",
   "id": "ed4d7816",
   "metadata": {},
   "source": [
    "## Write and call/invote a function\n",
    "If its find that the same bits of code if reused over, you can create your own function and call that instead of repeating the same code."
   ]
  },
  {
   "cell_type": "code",
   "execution_count": 70,
   "id": "479d3016",
   "metadata": {},
   "outputs": [],
   "source": [
    "def check_odd_even(i):\n",
    "    if i%2 == 0:\n",
    "        print(i, 'is even number')\n",
    "    else:\n",
    "        print(i, 'is odd number')"
   ]
  },
  {
   "cell_type": "code",
   "execution_count": 71,
   "id": "bed25c02",
   "metadata": {},
   "outputs": [
    {
     "name": "stdout",
     "output_type": "stream",
     "text": [
      "10 is even number\n"
     ]
    }
   ],
   "source": [
    "check_odd_even(10)"
   ]
  },
  {
   "cell_type": "markdown",
   "id": "04dcce1e",
   "metadata": {},
   "source": [
    "# Default Value Argument"
   ]
  },
  {
   "cell_type": "code",
   "execution_count": 73,
   "id": "9a0ab06a",
   "metadata": {},
   "outputs": [],
   "source": [
    "def calc_intrest(principal, rates=5,duration=5):\n",
    "    intrest=(principal*rates*duration)/100\n",
    "    amount=intrest+principal\n",
    "    print('Principal Amount=', principal)\n",
    "    print('Rate=',rates)\n",
    "    print('Duration=',duration)\n",
    "    print('Total Amount=',amount)"
   ]
  },
  {
   "cell_type": "code",
   "execution_count": 74,
   "id": "1bc8e24b",
   "metadata": {},
   "outputs": [
    {
     "name": "stdout",
     "output_type": "stream",
     "text": [
      "Principal Amount= 10\n",
      "Rate= 5\n",
      "Duration= 5\n",
      "Total Amount= 12.5\n"
     ]
    }
   ],
   "source": [
    "calc_intrest(10)"
   ]
  },
  {
   "cell_type": "code",
   "execution_count": 75,
   "id": "40154c69",
   "metadata": {},
   "outputs": [
    {
     "name": "stdout",
     "output_type": "stream",
     "text": [
      "Principal Amount= 10\n",
      "Rate= 10\n",
      "Duration= 5\n",
      "Total Amount= 15.0\n"
     ]
    }
   ],
   "source": [
    "calc_intrest(10, rates=10)"
   ]
  },
  {
   "cell_type": "code",
   "execution_count": 76,
   "id": "9d89e477",
   "metadata": {},
   "outputs": [
    {
     "name": "stdout",
     "output_type": "stream",
     "text": [
      "Principal Amount= 10\n",
      "Rate= 10\n",
      "Duration= 20\n",
      "Total Amount= 30.0\n"
     ]
    }
   ],
   "source": [
    "calc_intrest(10,rates=10,duration=20)"
   ]
  },
  {
   "cell_type": "markdown",
   "id": "49cedbff",
   "metadata": {},
   "source": [
    "# Reading File"
   ]
  },
  {
   "cell_type": "code",
   "execution_count": 77,
   "id": "5dd5bf15",
   "metadata": {},
   "outputs": [
    {
     "name": "stdout",
     "output_type": "stream",
     "text": [
      "('the answer is', 42)\n"
     ]
    }
   ],
   "source": [
    "f = open(r'G:\\workfile.txt','r')  # Location of file in your directory \n",
    "lines=f.read() #Entire file is read\n",
    "print(lines)\n",
    "f.close()"
   ]
  },
  {
   "cell_type": "code",
   "execution_count": 78,
   "id": "592fe574",
   "metadata": {},
   "outputs": [
    {
     "name": "stdout",
     "output_type": "stream",
     "text": [
      "('the answer is', 42)"
     ]
    }
   ],
   "source": [
    "f = open(r'G:\\workfile.txt','r')\n",
    "for line in f:\n",
    "    print(line,end='')\n",
    "f.close()"
   ]
  },
  {
   "cell_type": "code",
   "execution_count": 79,
   "id": "2735a500",
   "metadata": {},
   "outputs": [
    {
     "name": "stdout",
     "output_type": "stream",
     "text": [
      "('the answer is', 42)"
     ]
    }
   ],
   "source": [
    "with open(r'G:\\workfile.txt','r')as f:\n",
    "    for line in f:\n",
    "        print(line,end='')"
   ]
  },
  {
   "cell_type": "markdown",
   "id": "11618241",
   "metadata": {},
   "source": [
    "# Writing to file"
   ]
  },
  {
   "cell_type": "code",
   "execution_count": 80,
   "id": "352079a2",
   "metadata": {
    "scrolled": true
   },
   "outputs": [
    {
     "name": "stdout",
     "output_type": "stream",
     "text": [
      "('the answer is', 42)"
     ]
    }
   ],
   "source": [
    "with open(r'G:\\workfile.txt','r')as f: # Location of file in your directory \n",
    "    for line in f:\n",
    "        print(line,end='')"
   ]
  },
  {
   "cell_type": "code",
   "execution_count": null,
   "id": "61f2dfe3",
   "metadata": {},
   "outputs": [],
   "source": []
  }
 ],
 "metadata": {
  "kernelspec": {
   "display_name": "Python 3 (ipykernel)",
   "language": "python",
   "name": "python3"
  },
  "language_info": {
   "codemirror_mode": {
    "name": "ipython",
    "version": 3
   },
   "file_extension": ".py",
   "mimetype": "text/x-python",
   "name": "python",
   "nbconvert_exporter": "python",
   "pygments_lexer": "ipython3",
   "version": "3.8.4rc1"
  }
 },
 "nbformat": 4,
 "nbformat_minor": 5
}
